{
 "cells": [
  {
   "cell_type": "code",
   "execution_count": 2,
   "id": "56fd0628-d7ad-4fa1-a25f-bfb091c01d92",
   "metadata": {},
   "outputs": [],
   "source": [
    "import numpy as np"
   ]
  },
  {
   "cell_type": "code",
   "execution_count": 3,
   "id": "150a0ac2-f164-4746-8fd4-46b6cf6ba53a",
   "metadata": {},
   "outputs": [
    {
     "name": "stdout",
     "output_type": "stream",
     "text": [
      "[[ 1  2  3  4]\n",
      " [ 8  9 10 12]]\n",
      "NDIM = 2\n",
      "Size = 8\n"
     ]
    }
   ],
   "source": [
    "arr1 = np.array([[1, 2, 3, 4], [8, 9, 10, 12]])\n",
    "print(arr1)\n",
    "print(f\"NDIM = {arr1.ndim}\")\n",
    "print(f\"Size = {arr1.size}\")"
   ]
  },
  {
   "cell_type": "code",
   "execution_count": null,
   "id": "1889c761-ff4e-450b-9729-8ea3f3c5f38e",
   "metadata": {},
   "outputs": [],
   "source": []
  }
 ],
 "metadata": {
  "kernelspec": {
   "display_name": "Python 3 (ipykernel)",
   "language": "python",
   "name": "python3"
  },
  "language_info": {
   "codemirror_mode": {
    "name": "ipython",
    "version": 3
   },
   "file_extension": ".py",
   "mimetype": "text/x-python",
   "name": "python",
   "nbconvert_exporter": "python",
   "pygments_lexer": "ipython3",
   "version": "3.10.12"
  }
 },
 "nbformat": 4,
 "nbformat_minor": 5
}
