{
 "cells": [
  {
   "cell_type": "code",
   "execution_count": 1,
   "id": "b67c45e1-df8f-44c3-9154-fb64614f7920",
   "metadata": {},
   "outputs": [],
   "source": [
    "#2. Write a Pandas program to convert a Panda module Series to Python list and it’s type."
   ]
  },
  {
   "cell_type": "code",
   "execution_count": 2,
   "id": "4313115f-57d6-4085-906c-324fac840cdf",
   "metadata": {},
   "outputs": [],
   "source": [
    "import pandas as pd"
   ]
  },
  {
   "cell_type": "code",
   "execution_count": 3,
   "id": "779d4bcf-cbfe-406c-a36c-bd8e0ea8d553",
   "metadata": {},
   "outputs": [],
   "source": [
    "ser= pd.Series([11,22,33,44,55])"
   ]
  },
  {
   "cell_type": "code",
   "execution_count": 4,
   "id": "7f5452ed-be8f-4340-98ed-236f5d61d914",
   "metadata": {},
   "outputs": [
    {
     "name": "stdout",
     "output_type": "stream",
     "text": [
      "[11, 22, 33, 44, 55]\n"
     ]
    }
   ],
   "source": [
    "print(ser.tolist())"
   ]
  },
  {
   "cell_type": "code",
   "execution_count": 5,
   "id": "6df201fe-8951-43bc-8cd3-adc6fa53a64e",
   "metadata": {},
   "outputs": [
    {
     "name": "stdout",
     "output_type": "stream",
     "text": [
      "<class 'list'>\n"
     ]
    }
   ],
   "source": [
    "print(type(ser.tolist()))"
   ]
  },
  {
   "cell_type": "code",
   "execution_count": null,
   "id": "f61d2a5c-b3f4-4b04-8168-fed7d7c9dd6a",
   "metadata": {},
   "outputs": [],
   "source": []
  }
 ],
 "metadata": {
  "kernelspec": {
   "display_name": "Python 3 (ipykernel)",
   "language": "python",
   "name": "python3"
  },
  "language_info": {
   "codemirror_mode": {
    "name": "ipython",
    "version": 3
   },
   "file_extension": ".py",
   "mimetype": "text/x-python",
   "name": "python",
   "nbconvert_exporter": "python",
   "pygments_lexer": "ipython3",
   "version": "3.10.12"
  }
 },
 "nbformat": 4,
 "nbformat_minor": 5
}
