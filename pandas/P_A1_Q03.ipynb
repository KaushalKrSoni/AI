{
 "cells": [
  {
   "cell_type": "code",
   "execution_count": 10,
   "id": "08fdd36f-7067-431c-bf4f-58b50a65fa9b",
   "metadata": {},
   "outputs": [],
   "source": [
    "#3. Write a Pandas program to add, subtract, multiple and divide two Pandas Series.\n",
    "#   Sample Series: [2, 4, 6, 8, 10], [1, 3, 5, 7, 9]"
   ]
  },
  {
   "cell_type": "code",
   "execution_count": 11,
   "id": "665cb2b7-f99c-4180-bec9-1b025b71d4bc",
   "metadata": {},
   "outputs": [],
   "source": [
    "import pandas as pd\n",
    "import numpy as np"
   ]
  },
  {
   "cell_type": "code",
   "execution_count": 12,
   "id": "5a66cad5-ad2f-4dda-86f6-37d49e2e82de",
   "metadata": {},
   "outputs": [],
   "source": [
    "ser1 = pd.Series([2,4,6,8,10])\n",
    "ser2 = pd.Series([10,30,50,60,77])"
   ]
  },
  {
   "cell_type": "code",
   "execution_count": 13,
   "id": "f48f22fd-c2e4-4cff-ae90-a606aae43375",
   "metadata": {},
   "outputs": [
    {
     "name": "stdout",
     "output_type": "stream",
     "text": [
      "0    12\n",
      "1    34\n",
      "2    56\n",
      "3    68\n",
      "4    87\n",
      "dtype: int64\n"
     ]
    }
   ],
   "source": [
    "print(ser2 + ser1)"
   ]
  },
  {
   "cell_type": "code",
   "execution_count": 14,
   "id": "92e7f629-815f-4dad-9d7f-05f9e1b07ad9",
   "metadata": {},
   "outputs": [
    {
     "name": "stdout",
     "output_type": "stream",
     "text": [
      "0     8\n",
      "1    26\n",
      "2    44\n",
      "3    52\n",
      "4    67\n",
      "dtype: int64\n"
     ]
    }
   ],
   "source": [
    "print(ser2 - ser1)"
   ]
  },
  {
   "cell_type": "code",
   "execution_count": 15,
   "id": "63c87436-83e6-4750-83a3-5a9ee6cd9edc",
   "metadata": {},
   "outputs": [
    {
     "name": "stdout",
     "output_type": "stream",
     "text": [
      "0     20\n",
      "1    120\n",
      "2    300\n",
      "3    480\n",
      "4    770\n",
      "dtype: int64\n"
     ]
    }
   ],
   "source": [
    "print(ser2 * ser1)"
   ]
  },
  {
   "cell_type": "code",
   "execution_count": 16,
   "id": "b5dc0f50-0265-49bb-a5b9-205e4a82bf88",
   "metadata": {},
   "outputs": [
    {
     "name": "stdout",
     "output_type": "stream",
     "text": [
      "0    5.000000\n",
      "1    7.500000\n",
      "2    8.333333\n",
      "3    7.500000\n",
      "4    7.700000\n",
      "dtype: float64\n"
     ]
    }
   ],
   "source": [
    "print(ser2 / ser1)"
   ]
  },
  {
   "cell_type": "code",
   "execution_count": null,
   "id": "2adb9ec3-eacb-413c-8ce6-9a79b007e52c",
   "metadata": {},
   "outputs": [],
   "source": []
  }
 ],
 "metadata": {
  "kernelspec": {
   "display_name": "Python 3 (ipykernel)",
   "language": "python",
   "name": "python3"
  },
  "language_info": {
   "codemirror_mode": {
    "name": "ipython",
    "version": 3
   },
   "file_extension": ".py",
   "mimetype": "text/x-python",
   "name": "python",
   "nbconvert_exporter": "python",
   "pygments_lexer": "ipython3",
   "version": "3.10.12"
  }
 },
 "nbformat": 4,
 "nbformat_minor": 5
}
