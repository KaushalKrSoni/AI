{
 "cells": [
  {
   "cell_type": "code",
   "execution_count": 64,
   "id": "5baa4e79-029c-40be-a918-e5729aa13ea0",
   "metadata": {},
   "outputs": [],
   "source": [
    "import numpy as np\n",
    "import pandas as pd"
   ]
  },
  {
   "cell_type": "code",
   "execution_count": 65,
   "id": "0c77bdae-db0b-4fbc-9ba8-4feff97f9356",
   "metadata": {},
   "outputs": [
    {
     "name": "stdout",
     "output_type": "stream",
     "text": [
      "{'empid': 1, 'Name': 'Pavan'}\n",
      "{'empid': 2, 'Name': 'Sanjay'}\n",
      "{'empid': 3, 'Name': 'Deeksha'}\n",
      "{'empid': 4, 'Name': 'Kaushal'}\n",
      "{'empid': 5, 'Name': 'Rucha'}\n",
      "{'empid': 6, 'Name': 'plm'}\n",
      "{'empid': 7, 'Name': 'uhb'}\n",
      "{'empid': 8, 'Name': 'rdc'}\n",
      "{'empid': 9, 'Name': 'esz'}\n",
      "{'empid': 10, 'Name': 'bhi'}\n",
      "Type = <class 'list'>\n"
     ]
    }
   ],
   "source": [
    "#9.i\n",
    "\n",
    "employees = [\n",
    "        {\"empid\":1,\"Name\":\"Pavan\"},\n",
    "        {\"empid\":2,\"Name\":\"Sanjay\"},\n",
    "        {\"empid\":3,\"Name\":\"Deeksha\"},\n",
    "        {\"empid\":4,\"Name\":\"Kaushal\"},\n",
    "        {\"empid\":5,\"Name\":\"Rucha\"},\n",
    "        {\"empid\":6,\"Name\":\"plm\"},\n",
    "        {\"empid\":7,\"Name\":\"uhb\"},\n",
    "        {\"empid\":8,\"Name\":\"rdc\"},\n",
    "        {\"empid\":9,\"Name\":\"esz\"},\n",
    "        {\"empid\":10,\"Name\":\"bhi\"}\n",
    "]\n",
    "for emp in employees:\n",
    "    print(emp)\n",
    "print(f\"Type = {type(employees)}\")"
   ]
  },
  {
   "cell_type": "code",
   "execution_count": 66,
   "id": "79273689-730e-479e-9802-b7560245a0b2",
   "metadata": {},
   "outputs": [
    {
     "name": "stdout",
     "output_type": "stream",
     "text": [
      "0      {'empid': 1, 'Name': 'Pavan'}\n",
      "1     {'empid': 2, 'Name': 'Sanjay'}\n",
      "2    {'empid': 3, 'Name': 'Deeksha'}\n",
      "3    {'empid': 4, 'Name': 'Kaushal'}\n",
      "4      {'empid': 5, 'Name': 'Rucha'}\n",
      "5        {'empid': 6, 'Name': 'plm'}\n",
      "6        {'empid': 7, 'Name': 'uhb'}\n",
      "7        {'empid': 8, 'Name': 'rdc'}\n",
      "8        {'empid': 9, 'Name': 'esz'}\n",
      "9       {'empid': 10, 'Name': 'bhi'}\n",
      "dtype: object\n",
      "Type = object\n"
     ]
    }
   ],
   "source": [
    "#9.ii\n",
    "p_series = pd.Series(employees)\n",
    "print(p_series)\n",
    "#9.iii\n",
    "print(f\"Type = {(p_series).dtype}\")"
   ]
  },
  {
   "cell_type": "code",
   "execution_count": 76,
   "id": "9fc3c776-cfba-468e-8e2f-fb05f5a85c5d",
   "metadata": {},
   "outputs": [],
   "source": [
    "#9.iv\n",
    "df = pd.DataFrame(employees)"
   ]
  },
  {
   "cell_type": "code",
   "execution_count": 77,
   "id": "cb2a01e8-ea44-4678-8286-62a9bd97282d",
   "metadata": {},
   "outputs": [
    {
     "name": "stdout",
     "output_type": "stream",
     "text": [
      "   empid     Name\n",
      "0      1    Pavan\n",
      "1      2   Sanjay\n",
      "2      3  Deeksha\n",
      "3      4  Kaushal\n",
      "4      5    Rucha\n",
      "5      6      plm\n",
      "6      7      uhb\n",
      "7      8      rdc\n",
      "8      9      esz\n",
      "9     10      bhi\n"
     ]
    }
   ],
   "source": [
    "#9.v.a\n",
    "print(df)"
   ]
  },
  {
   "cell_type": "code",
   "execution_count": 78,
   "id": "50e3dba9-4fb2-414a-b2c6-c0638ddb3431",
   "metadata": {},
   "outputs": [
    {
     "data": {
      "text/html": [
       "<div>\n",
       "<style scoped>\n",
       "    .dataframe tbody tr th:only-of-type {\n",
       "        vertical-align: middle;\n",
       "    }\n",
       "\n",
       "    .dataframe tbody tr th {\n",
       "        vertical-align: top;\n",
       "    }\n",
       "\n",
       "    .dataframe thead th {\n",
       "        text-align: right;\n",
       "    }\n",
       "</style>\n",
       "<table border=\"1\" class=\"dataframe\">\n",
       "  <thead>\n",
       "    <tr style=\"text-align: right;\">\n",
       "      <th></th>\n",
       "      <th>empid</th>\n",
       "      <th>Name</th>\n",
       "    </tr>\n",
       "  </thead>\n",
       "  <tbody>\n",
       "    <tr>\n",
       "      <th>0</th>\n",
       "      <td>1</td>\n",
       "      <td>Pavan</td>\n",
       "    </tr>\n",
       "    <tr>\n",
       "      <th>1</th>\n",
       "      <td>2</td>\n",
       "      <td>Sanjay</td>\n",
       "    </tr>\n",
       "    <tr>\n",
       "      <th>2</th>\n",
       "      <td>3</td>\n",
       "      <td>Deeksha</td>\n",
       "    </tr>\n",
       "    <tr>\n",
       "      <th>3</th>\n",
       "      <td>4</td>\n",
       "      <td>Kaushal</td>\n",
       "    </tr>\n",
       "    <tr>\n",
       "      <th>4</th>\n",
       "      <td>5</td>\n",
       "      <td>Rucha</td>\n",
       "    </tr>\n",
       "  </tbody>\n",
       "</table>\n",
       "</div>"
      ],
      "text/plain": [
       "   empid     Name\n",
       "0      1    Pavan\n",
       "1      2   Sanjay\n",
       "2      3  Deeksha\n",
       "3      4  Kaushal\n",
       "4      5    Rucha"
      ]
     },
     "execution_count": 78,
     "metadata": {},
     "output_type": "execute_result"
    }
   ],
   "source": [
    "#9.v.b\n",
    "df.head()"
   ]
  },
  {
   "cell_type": "code",
   "execution_count": 79,
   "id": "ee08bcb6-1f12-4b31-992a-e7c4b3f7b6da",
   "metadata": {},
   "outputs": [
    {
     "data": {
      "text/html": [
       "<div>\n",
       "<style scoped>\n",
       "    .dataframe tbody tr th:only-of-type {\n",
       "        vertical-align: middle;\n",
       "    }\n",
       "\n",
       "    .dataframe tbody tr th {\n",
       "        vertical-align: top;\n",
       "    }\n",
       "\n",
       "    .dataframe thead th {\n",
       "        text-align: right;\n",
       "    }\n",
       "</style>\n",
       "<table border=\"1\" class=\"dataframe\">\n",
       "  <thead>\n",
       "    <tr style=\"text-align: right;\">\n",
       "      <th></th>\n",
       "      <th>empid</th>\n",
       "      <th>Name</th>\n",
       "    </tr>\n",
       "  </thead>\n",
       "  <tbody>\n",
       "    <tr>\n",
       "      <th>5</th>\n",
       "      <td>6</td>\n",
       "      <td>plm</td>\n",
       "    </tr>\n",
       "    <tr>\n",
       "      <th>6</th>\n",
       "      <td>7</td>\n",
       "      <td>uhb</td>\n",
       "    </tr>\n",
       "    <tr>\n",
       "      <th>7</th>\n",
       "      <td>8</td>\n",
       "      <td>rdc</td>\n",
       "    </tr>\n",
       "    <tr>\n",
       "      <th>8</th>\n",
       "      <td>9</td>\n",
       "      <td>esz</td>\n",
       "    </tr>\n",
       "    <tr>\n",
       "      <th>9</th>\n",
       "      <td>10</td>\n",
       "      <td>bhi</td>\n",
       "    </tr>\n",
       "  </tbody>\n",
       "</table>\n",
       "</div>"
      ],
      "text/plain": [
       "   empid Name\n",
       "5      6  plm\n",
       "6      7  uhb\n",
       "7      8  rdc\n",
       "8      9  esz\n",
       "9     10  bhi"
      ]
     },
     "execution_count": 79,
     "metadata": {},
     "output_type": "execute_result"
    }
   ],
   "source": [
    "#9.v.c\n",
    "df.tail()"
   ]
  },
  {
   "cell_type": "code",
   "execution_count": 80,
   "id": "f9aba721-fc61-41a1-819f-65fd91a022af",
   "metadata": {},
   "outputs": [
    {
     "data": {
      "text/html": [
       "<div>\n",
       "<style scoped>\n",
       "    .dataframe tbody tr th:only-of-type {\n",
       "        vertical-align: middle;\n",
       "    }\n",
       "\n",
       "    .dataframe tbody tr th {\n",
       "        vertical-align: top;\n",
       "    }\n",
       "\n",
       "    .dataframe thead th {\n",
       "        text-align: right;\n",
       "    }\n",
       "</style>\n",
       "<table border=\"1\" class=\"dataframe\">\n",
       "  <thead>\n",
       "    <tr style=\"text-align: right;\">\n",
       "      <th></th>\n",
       "      <th>empid</th>\n",
       "      <th>Name</th>\n",
       "    </tr>\n",
       "  </thead>\n",
       "  <tbody>\n",
       "    <tr>\n",
       "      <th>0</th>\n",
       "      <td>1</td>\n",
       "      <td>Pavan</td>\n",
       "    </tr>\n",
       "    <tr>\n",
       "      <th>1</th>\n",
       "      <td>2</td>\n",
       "      <td>Sanjay</td>\n",
       "    </tr>\n",
       "  </tbody>\n",
       "</table>\n",
       "</div>"
      ],
      "text/plain": [
       "   empid    Name\n",
       "0      1   Pavan\n",
       "1      2  Sanjay"
      ]
     },
     "execution_count": 80,
     "metadata": {},
     "output_type": "execute_result"
    }
   ],
   "source": [
    "#9.v.d\n",
    "df.head(2)"
   ]
  },
  {
   "cell_type": "code",
   "execution_count": 81,
   "id": "2f6cd900-e988-4ab5-b1a6-33ef8045acdb",
   "metadata": {},
   "outputs": [
    {
     "data": {
      "text/html": [
       "<div>\n",
       "<style scoped>\n",
       "    .dataframe tbody tr th:only-of-type {\n",
       "        vertical-align: middle;\n",
       "    }\n",
       "\n",
       "    .dataframe tbody tr th {\n",
       "        vertical-align: top;\n",
       "    }\n",
       "\n",
       "    .dataframe thead th {\n",
       "        text-align: right;\n",
       "    }\n",
       "</style>\n",
       "<table border=\"1\" class=\"dataframe\">\n",
       "  <thead>\n",
       "    <tr style=\"text-align: right;\">\n",
       "      <th></th>\n",
       "      <th>empid</th>\n",
       "      <th>Name</th>\n",
       "    </tr>\n",
       "  </thead>\n",
       "  <tbody>\n",
       "    <tr>\n",
       "      <th>8</th>\n",
       "      <td>9</td>\n",
       "      <td>esz</td>\n",
       "    </tr>\n",
       "    <tr>\n",
       "      <th>9</th>\n",
       "      <td>10</td>\n",
       "      <td>bhi</td>\n",
       "    </tr>\n",
       "  </tbody>\n",
       "</table>\n",
       "</div>"
      ],
      "text/plain": [
       "   empid Name\n",
       "8      9  esz\n",
       "9     10  bhi"
      ]
     },
     "execution_count": 81,
     "metadata": {},
     "output_type": "execute_result"
    }
   ],
   "source": [
    "#9.v.d\n",
    "df.tail(2)"
   ]
  },
  {
   "cell_type": "code",
   "execution_count": 82,
   "id": "96e52674-bf4b-4cc3-b71e-c5904a88804c",
   "metadata": {},
   "outputs": [
    {
     "data": {
      "text/plain": [
       "Index(['empid', 'Name'], dtype='object')"
      ]
     },
     "execution_count": 82,
     "metadata": {},
     "output_type": "execute_result"
    }
   ],
   "source": [
    "df.columns"
   ]
  },
  {
   "cell_type": "code",
   "execution_count": 84,
   "id": "997f48e3-5483-4600-9f4b-ecd187d6bb04",
   "metadata": {},
   "outputs": [
    {
     "name": "stdout",
     "output_type": "stream",
     "text": [
      "5th employee is :  plm\n"
     ]
    }
   ],
   "source": [
    "print(\"5th employee is : \",df.iloc[4]['Name'])"
   ]
  },
  {
   "cell_type": "code",
   "execution_count": 86,
   "id": "d244a92e-a991-40c8-baff-05684b3915b9",
   "metadata": {},
   "outputs": [
    {
     "name": "stdout",
     "output_type": "stream",
     "text": [
      "4th employee is :  empid          4\n",
      "Name     Kaushal\n",
      "Name: 3, dtype: object\n"
     ]
    }
   ],
   "source": [
    "print(\"4th employee is : \",df.iloc[3])"
   ]
  },
  {
   "cell_type": "code",
   "execution_count": 87,
   "id": "acac75df-e2bd-4d8c-89fd-de1d2f74a4b5",
   "metadata": {},
   "outputs": [],
   "source": [
    "df.to_csv('MyRecords.csv')"
   ]
  },
  {
   "cell_type": "code",
   "execution_count": null,
   "id": "01fab63e-332f-438b-9773-676271abd378",
   "metadata": {},
   "outputs": [],
   "source": []
  }
 ],
 "metadata": {
  "kernelspec": {
   "display_name": "Python 3 (ipykernel)",
   "language": "python",
   "name": "python3"
  },
  "language_info": {
   "codemirror_mode": {
    "name": "ipython",
    "version": 3
   },
   "file_extension": ".py",
   "mimetype": "text/x-python",
   "name": "python",
   "nbconvert_exporter": "python",
   "pygments_lexer": "ipython3",
   "version": "3.10.12"
  }
 },
 "nbformat": 4,
 "nbformat_minor": 5
}
