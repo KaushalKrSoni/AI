{
 "cells": [
  {
   "cell_type": "code",
   "execution_count": 1,
   "id": "d256e080-cb3f-41da-845e-a4128a14ab04",
   "metadata": {},
   "outputs": [],
   "source": [
    "import numpy as np\n",
    "import pandas as pd"
   ]
  },
  {
   "cell_type": "code",
   "execution_count": 5,
   "id": "6057c878-beb3-4f16-8dde-96fe32295d04",
   "metadata": {},
   "outputs": [
    {
     "name": "stdout",
     "output_type": "stream",
     "text": [
      "Original Series = 0    10\n",
      "1    20\n",
      "2    30\n",
      "3    40\n",
      "4    50\n",
      "dtype: int64\n",
      "Array Set = [10 20 30 40 50]\n",
      "Data Type Of Array Set = <attribute 'dtype' of 'numpy.ndarray' objects>\n"
     ]
    }
   ],
   "source": [
    "p_series = pd.Series([10,20,30,40,50])\n",
    "print(f\"Original Series = {p_series}\")\n",
    "print(f\"Array Set = {p_series.values}\")\n",
    "print(f\"Data Type Of Array Set = {type(p_series.values).dtype}\")"
   ]
  },
  {
   "cell_type": "code",
   "execution_count": null,
   "id": "1ea9edbf-8ee2-447d-9cc4-210920445f05",
   "metadata": {},
   "outputs": [],
   "source": []
  }
 ],
 "metadata": {
  "kernelspec": {
   "display_name": "Python 3 (ipykernel)",
   "language": "python",
   "name": "python3"
  },
  "language_info": {
   "codemirror_mode": {
    "name": "ipython",
    "version": 3
   },
   "file_extension": ".py",
   "mimetype": "text/x-python",
   "name": "python",
   "nbconvert_exporter": "python",
   "pygments_lexer": "ipython3",
   "version": "3.10.12"
  }
 },
 "nbformat": 4,
 "nbformat_minor": 5
}
