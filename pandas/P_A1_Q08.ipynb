{
 "cells": [
  {
   "cell_type": "code",
   "execution_count": 4,
   "id": "1651d487-0796-4750-a646-b75f6955a3db",
   "metadata": {},
   "outputs": [],
   "source": [
    "import pandas as pd"
   ]
  },
  {
   "cell_type": "code",
   "execution_count": 8,
   "id": "0093dcd3-0a7b-4ada-af06-1063ab3139a4",
   "metadata": {},
   "outputs": [],
   "source": [
    "def function1():\n",
    "    d = ({\"Name\":\"Pavan\", \"add\":\"qwe123\"})\n",
    "    d1 = ({\"Name\":\"Sanjay\", \"add\":\"asd456\"})\n",
    "    d2 = ({\"Name\":\"Deeksha\", \"add\":\"zxc789\"})\n",
    "    d3 = ({\"Name\":\"Kaushal\", \"add\":\"poi741\"})\n",
    "    d4 = ({\"Name\":\"Rucha\", \"add\":\"lkj852\"})\n",
    "\n",
    "    srs_1 = pd.Series(d)\n",
    "    srs_2 = pd.Series(d1)\n",
    "    srs_3 = pd.Series(d2)\n",
    "    srs_4 = pd.Series(d3)\n",
    "    srs_5 = pd.Series(d4)\n",
    "\n",
    "    table = pd.DataFrame([srs_1,srs_2,srs_3,srs_4,srs_5])\n",
    "    print(table)"
   ]
  },
  {
   "cell_type": "code",
   "execution_count": 9,
   "id": "fdf465e7-38f4-4943-88a4-807e89aab445",
   "metadata": {},
   "outputs": [
    {
     "name": "stdout",
     "output_type": "stream",
     "text": [
      "      Name     add\n",
      "0   Sanjay  qwe123\n",
      "1   Sanjay  asd456\n",
      "2  Deeksha  zxc789\n",
      "3  Kaushal  poi741\n",
      "4    Rucha  lkj852\n"
     ]
    }
   ],
   "source": [
    "function1()"
   ]
  },
  {
   "cell_type": "code",
   "execution_count": null,
   "id": "d3c3b06c-e7e6-42cf-8262-f4a417a0d37b",
   "metadata": {},
   "outputs": [],
   "source": []
  }
 ],
 "metadata": {
  "kernelspec": {
   "display_name": "Python 3 (ipykernel)",
   "language": "python",
   "name": "python3"
  },
  "language_info": {
   "codemirror_mode": {
    "name": "ipython",
    "version": 3
   },
   "file_extension": ".py",
   "mimetype": "text/x-python",
   "name": "python",
   "nbconvert_exporter": "python",
   "pygments_lexer": "ipython3",
   "version": "3.10.12"
  }
 },
 "nbformat": 4,
 "nbformat_minor": 5
}
