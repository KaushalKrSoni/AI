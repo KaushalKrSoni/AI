{
 "cells": [
  {
   "cell_type": "code",
   "execution_count": 12,
   "id": "4f3a2386-6b19-40c1-96c4-ff66b2f47565",
   "metadata": {},
   "outputs": [],
   "source": [
    "#4. Write a Pandas program to convert a dictionary to a Pandas series."
   ]
  },
  {
   "cell_type": "code",
   "execution_count": 13,
   "id": "0251a63a-dc0d-432b-965c-da4cd9000ade",
   "metadata": {},
   "outputs": [],
   "source": [
    "import pandas as pd"
   ]
  },
  {
   "cell_type": "code",
   "execution_count": 16,
   "id": "ebadf738-5fa2-4b60-8e07-59dafe98c896",
   "metadata": {},
   "outputs": [
    {
     "name": "stdout",
     "output_type": "stream",
     "text": [
      "Dictionary: {'DESD': 117, 'DAC': 220, 'DMC': 110, 'DBDA': 115}\n"
     ]
    }
   ],
   "source": [
    "Courses = ({\"DESD\": 117, \"DAC\":220, \"DMC\": 110, \"DBDA\": 115})\n",
    "print(\"Dictionary:\", Courses)"
   ]
  },
  {
   "cell_type": "code",
   "execution_count": 17,
   "id": "bde54ff6-9d19-4cab-9940-098872adf330",
   "metadata": {},
   "outputs": [
    {
     "name": "stdout",
     "output_type": "stream",
     "text": [
      "Converted Series\n",
      "DESD    117\n",
      "DAC     220\n",
      "DMC     110\n",
      "DBDA    115\n",
      "dtype: int64\n"
     ]
    }
   ],
   "source": [
    "print(\"Converted Series\")\n",
    "print(pd.Series(Courses))"
   ]
  },
  {
   "cell_type": "code",
   "execution_count": null,
   "id": "08c46aa5-5fce-4ce7-b1ac-e22166da469c",
   "metadata": {},
   "outputs": [],
   "source": []
  }
 ],
 "metadata": {
  "kernelspec": {
   "display_name": "Python 3 (ipykernel)",
   "language": "python",
   "name": "python3"
  },
  "language_info": {
   "codemirror_mode": {
    "name": "ipython",
    "version": 3
   },
   "file_extension": ".py",
   "mimetype": "text/x-python",
   "name": "python",
   "nbconvert_exporter": "python",
   "pygments_lexer": "ipython3",
   "version": "3.10.12"
  }
 },
 "nbformat": 4,
 "nbformat_minor": 5
}
