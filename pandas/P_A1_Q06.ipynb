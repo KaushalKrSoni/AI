{
 "cells": [
  {
   "cell_type": "code",
   "execution_count": 1,
   "id": "7da9edb1-a784-42bf-8d28-1957c5999a7c",
   "metadata": {},
   "outputs": [],
   "source": [
    "#6. Write a Pandas program to change the data type of given a column or a Series."
   ]
  },
  {
   "cell_type": "code",
   "execution_count": 2,
   "id": "a344d494-de2a-492a-a050-ffc96f9afe64",
   "metadata": {},
   "outputs": [],
   "source": [
    "import pandas as pd"
   ]
  },
  {
   "cell_type": "code",
   "execution_count": 14,
   "id": "43dd1165-2e67-4773-9e87-7dc55e4c35a3",
   "metadata": {},
   "outputs": [
    {
     "name": "stdout",
     "output_type": "stream",
     "text": [
      "Series:\n",
      " 0    DESD\n",
      "1     117\n",
      "2     220\n",
      "3     110\n",
      "4     115\n",
      "dtype: object\n",
      "<class 'pandas.core.series.Series'>\n"
     ]
    }
   ],
   "source": [
    "ser = pd.Series([\"DESD\", '117', '220', '110', '115'])\n",
    "print(\"Series:\\n\",ser)\n",
    "print(type(ser))"
   ]
  },
  {
   "cell_type": "code",
   "execution_count": 19,
   "id": "967a6fe9-a942-4624-9915-4351ea2fd2f6",
   "metadata": {},
   "outputs": [
    {
     "name": "stdout",
     "output_type": "stream",
     "text": [
      "<class 'pandas.core.series.Series'>\n"
     ]
    }
   ],
   "source": [
    "ser1 = pd.to_numeric(ser, errors = 'coerce')\n",
    "print(type(ser1))\n",
    "#print(dtype(ser1))"
   ]
  },
  {
   "cell_type": "code",
   "execution_count": null,
   "id": "e466749e-4193-4e20-9269-cf8130501b29",
   "metadata": {},
   "outputs": [],
   "source": []
  }
 ],
 "metadata": {
  "kernelspec": {
   "display_name": "Python 3 (ipykernel)",
   "language": "python",
   "name": "python3"
  },
  "language_info": {
   "codemirror_mode": {
    "name": "ipython",
    "version": 3
   },
   "file_extension": ".py",
   "mimetype": "text/x-python",
   "name": "python",
   "nbconvert_exporter": "python",
   "pygments_lexer": "ipython3",
   "version": "3.10.12"
  }
 },
 "nbformat": 4,
 "nbformat_minor": 5
}
